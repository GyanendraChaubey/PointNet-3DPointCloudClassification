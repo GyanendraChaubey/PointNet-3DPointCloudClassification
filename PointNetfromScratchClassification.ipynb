{
  "cells": [
    {
      "cell_type": "code",
      "execution_count": null,
      "metadata": {
        "colab": {
          "base_uri": "https://localhost:8080/"
        },
        "id": "-GW4pkr5I-Qt",
        "outputId": "841a2f0c-4523-4c67-a446-54c78135e4ed"
      },
      "outputs": [
        {
          "output_type": "stream",
          "name": "stdout",
          "text": [
            "Requirement already satisfied: torchmetrics in /usr/local/lib/python3.10/dist-packages (1.2.0)\n",
            "Requirement already satisfied: numpy>1.20.0 in /usr/local/lib/python3.10/dist-packages (from torchmetrics) (1.23.5)\n",
            "Requirement already satisfied: torch>=1.8.1 in /usr/local/lib/python3.10/dist-packages (from torchmetrics) (2.1.0+cu118)\n",
            "Requirement already satisfied: lightning-utilities>=0.8.0 in /usr/local/lib/python3.10/dist-packages (from torchmetrics) (0.10.0)\n",
            "Requirement already satisfied: packaging>=17.1 in /usr/local/lib/python3.10/dist-packages (from lightning-utilities>=0.8.0->torchmetrics) (23.2)\n",
            "Requirement already satisfied: setuptools in /usr/local/lib/python3.10/dist-packages (from lightning-utilities>=0.8.0->torchmetrics) (67.7.2)\n",
            "Requirement already satisfied: typing-extensions in /usr/local/lib/python3.10/dist-packages (from lightning-utilities>=0.8.0->torchmetrics) (4.5.0)\n",
            "Requirement already satisfied: filelock in /usr/local/lib/python3.10/dist-packages (from torch>=1.8.1->torchmetrics) (3.13.1)\n",
            "Requirement already satisfied: sympy in /usr/local/lib/python3.10/dist-packages (from torch>=1.8.1->torchmetrics) (1.12)\n",
            "Requirement already satisfied: networkx in /usr/local/lib/python3.10/dist-packages (from torch>=1.8.1->torchmetrics) (3.2.1)\n",
            "Requirement already satisfied: jinja2 in /usr/local/lib/python3.10/dist-packages (from torch>=1.8.1->torchmetrics) (3.1.2)\n",
            "Requirement already satisfied: fsspec in /usr/local/lib/python3.10/dist-packages (from torch>=1.8.1->torchmetrics) (2023.6.0)\n",
            "Requirement already satisfied: triton==2.1.0 in /usr/local/lib/python3.10/dist-packages (from torch>=1.8.1->torchmetrics) (2.1.0)\n",
            "Requirement already satisfied: MarkupSafe>=2.0 in /usr/local/lib/python3.10/dist-packages (from jinja2->torch>=1.8.1->torchmetrics) (2.1.3)\n",
            "Requirement already satisfied: mpmath>=0.19 in /usr/local/lib/python3.10/dist-packages (from sympy->torch>=1.8.1->torchmetrics) (1.3.0)\n"
          ]
        }
      ],
      "source": [
        "!pip install torchmetrics"
      ]
    },
    {
      "cell_type": "code",
      "execution_count": null,
      "metadata": {
        "colab": {
          "base_uri": "https://localhost:8080/"
        },
        "id": "sj0T1_1GJOZ7",
        "outputId": "abe24808-ee65-4449-bd93-ab7b97d0f7de"
      },
      "outputs": [
        {
          "output_type": "stream",
          "name": "stdout",
          "text": [
            "Collecting open3d\n",
            "  Downloading open3d-0.17.0-cp310-cp310-manylinux_2_27_x86_64.whl (420.5 MB)\n",
            "\u001b[2K     \u001b[90m━━━━━━━━━━━━━━━━━━━━━━━━━━━━━━━━━━━━━━━━\u001b[0m \u001b[32m420.5/420.5 MB\u001b[0m \u001b[31m3.4 MB/s\u001b[0m eta \u001b[36m0:00:00\u001b[0m\n",
            "\u001b[?25hRequirement already satisfied: numpy>=1.18.0 in /usr/local/lib/python3.10/dist-packages (from open3d) (1.23.5)\n",
            "Collecting dash>=2.6.0 (from open3d)\n",
            "  Downloading dash-2.14.1-py3-none-any.whl (10.4 MB)\n",
            "\u001b[2K     \u001b[90m━━━━━━━━━━━━━━━━━━━━━━━━━━━━━━━━━━━━━━━━\u001b[0m \u001b[32m10.4/10.4 MB\u001b[0m \u001b[31m63.3 MB/s\u001b[0m eta \u001b[36m0:00:00\u001b[0m\n",
            "\u001b[?25hRequirement already satisfied: werkzeug>=2.2.3 in /usr/local/lib/python3.10/dist-packages (from open3d) (3.0.1)\n",
            "Collecting nbformat==5.7.0 (from open3d)\n",
            "  Downloading nbformat-5.7.0-py3-none-any.whl (77 kB)\n",
            "\u001b[2K     \u001b[90m━━━━━━━━━━━━━━━━━━━━━━━━━━━━━━━━━━━━━━━━\u001b[0m \u001b[32m77.1/77.1 kB\u001b[0m \u001b[31m10.3 MB/s\u001b[0m eta \u001b[36m0:00:00\u001b[0m\n",
            "\u001b[?25hCollecting configargparse (from open3d)\n",
            "  Downloading ConfigArgParse-1.7-py3-none-any.whl (25 kB)\n",
            "Collecting ipywidgets>=8.0.4 (from open3d)\n",
            "  Downloading ipywidgets-8.1.1-py3-none-any.whl (139 kB)\n",
            "\u001b[2K     \u001b[90m━━━━━━━━━━━━━━━━━━━━━━━━━━━━━━━━━━━━━━━━\u001b[0m \u001b[32m139.4/139.4 kB\u001b[0m \u001b[31m15.5 MB/s\u001b[0m eta \u001b[36m0:00:00\u001b[0m\n",
            "\u001b[?25hCollecting addict (from open3d)\n",
            "  Downloading addict-2.4.0-py3-none-any.whl (3.8 kB)\n",
            "Requirement already satisfied: pillow>=9.3.0 in /usr/local/lib/python3.10/dist-packages (from open3d) (9.4.0)\n",
            "Requirement already satisfied: matplotlib>=3 in /usr/local/lib/python3.10/dist-packages (from open3d) (3.7.1)\n",
            "Requirement already satisfied: pandas>=1.0 in /usr/local/lib/python3.10/dist-packages (from open3d) (1.5.3)\n",
            "Requirement already satisfied: pyyaml>=5.4.1 in /usr/local/lib/python3.10/dist-packages (from open3d) (6.0.1)\n",
            "Requirement already satisfied: scikit-learn>=0.21 in /usr/local/lib/python3.10/dist-packages (from open3d) (1.2.2)\n",
            "Requirement already satisfied: tqdm in /usr/local/lib/python3.10/dist-packages (from open3d) (4.66.1)\n",
            "Collecting pyquaternion (from open3d)\n",
            "  Downloading pyquaternion-0.9.9-py3-none-any.whl (14 kB)\n",
            "Requirement already satisfied: fastjsonschema in /usr/local/lib/python3.10/dist-packages (from nbformat==5.7.0->open3d) (2.19.0)\n",
            "Requirement already satisfied: jsonschema>=2.6 in /usr/local/lib/python3.10/dist-packages (from nbformat==5.7.0->open3d) (4.19.2)\n",
            "Requirement already satisfied: jupyter-core in /usr/local/lib/python3.10/dist-packages (from nbformat==5.7.0->open3d) (5.5.0)\n",
            "Requirement already satisfied: traitlets>=5.1 in /usr/local/lib/python3.10/dist-packages (from nbformat==5.7.0->open3d) (5.7.1)\n",
            "Requirement already satisfied: Flask<3.1,>=1.0.4 in /usr/local/lib/python3.10/dist-packages (from dash>=2.6.0->open3d) (2.2.5)\n",
            "Requirement already satisfied: plotly>=5.0.0 in /usr/local/lib/python3.10/dist-packages (from dash>=2.6.0->open3d) (5.15.0)\n",
            "Collecting dash-html-components==2.0.0 (from dash>=2.6.0->open3d)\n",
            "  Downloading dash_html_components-2.0.0-py3-none-any.whl (4.1 kB)\n",
            "Collecting dash-core-components==2.0.0 (from dash>=2.6.0->open3d)\n",
            "  Downloading dash_core_components-2.0.0-py3-none-any.whl (3.8 kB)\n",
            "Collecting dash-table==5.0.0 (from dash>=2.6.0->open3d)\n",
            "  Downloading dash_table-5.0.0-py3-none-any.whl (3.9 kB)\n",
            "Requirement already satisfied: typing-extensions>=4.1.1 in /usr/local/lib/python3.10/dist-packages (from dash>=2.6.0->open3d) (4.5.0)\n",
            "Requirement already satisfied: requests in /usr/local/lib/python3.10/dist-packages (from dash>=2.6.0->open3d) (2.31.0)\n",
            "Collecting retrying (from dash>=2.6.0->open3d)\n",
            "  Downloading retrying-1.3.4-py3-none-any.whl (11 kB)\n",
            "Collecting ansi2html (from dash>=2.6.0->open3d)\n",
            "  Downloading ansi2html-1.8.0-py3-none-any.whl (16 kB)\n",
            "Requirement already satisfied: nest-asyncio in /usr/local/lib/python3.10/dist-packages (from dash>=2.6.0->open3d) (1.5.8)\n",
            "Requirement already satisfied: setuptools in /usr/local/lib/python3.10/dist-packages (from dash>=2.6.0->open3d) (67.7.2)\n",
            "Requirement already satisfied: importlib-metadata in /usr/local/lib/python3.10/dist-packages (from dash>=2.6.0->open3d) (6.8.0)\n",
            "Collecting comm>=0.1.3 (from ipywidgets>=8.0.4->open3d)\n",
            "  Downloading comm-0.2.0-py3-none-any.whl (7.0 kB)\n",
            "Requirement already satisfied: ipython>=6.1.0 in /usr/local/lib/python3.10/dist-packages (from ipywidgets>=8.0.4->open3d) (7.34.0)\n",
            "Collecting widgetsnbextension~=4.0.9 (from ipywidgets>=8.0.4->open3d)\n",
            "  Downloading widgetsnbextension-4.0.9-py3-none-any.whl (2.3 MB)\n",
            "\u001b[2K     \u001b[90m━━━━━━━━━━━━━━━━━━━━━━━━━━━━━━━━━━━━━━━━\u001b[0m \u001b[32m2.3/2.3 MB\u001b[0m \u001b[31m74.2 MB/s\u001b[0m eta \u001b[36m0:00:00\u001b[0m\n",
            "\u001b[?25hRequirement already satisfied: jupyterlab-widgets~=3.0.9 in /usr/local/lib/python3.10/dist-packages (from ipywidgets>=8.0.4->open3d) (3.0.9)\n",
            "Requirement already satisfied: contourpy>=1.0.1 in /usr/local/lib/python3.10/dist-packages (from matplotlib>=3->open3d) (1.2.0)\n",
            "Requirement already satisfied: cycler>=0.10 in /usr/local/lib/python3.10/dist-packages (from matplotlib>=3->open3d) (0.12.1)\n",
            "Requirement already satisfied: fonttools>=4.22.0 in /usr/local/lib/python3.10/dist-packages (from matplotlib>=3->open3d) (4.44.3)\n",
            "Requirement already satisfied: kiwisolver>=1.0.1 in /usr/local/lib/python3.10/dist-packages (from matplotlib>=3->open3d) (1.4.5)\n",
            "Requirement already satisfied: packaging>=20.0 in /usr/local/lib/python3.10/dist-packages (from matplotlib>=3->open3d) (23.2)\n",
            "Requirement already satisfied: pyparsing>=2.3.1 in /usr/local/lib/python3.10/dist-packages (from matplotlib>=3->open3d) (3.1.1)\n",
            "Requirement already satisfied: python-dateutil>=2.7 in /usr/local/lib/python3.10/dist-packages (from matplotlib>=3->open3d) (2.8.2)\n",
            "Requirement already satisfied: pytz>=2020.1 in /usr/local/lib/python3.10/dist-packages (from pandas>=1.0->open3d) (2023.3.post1)\n",
            "Requirement already satisfied: scipy>=1.3.2 in /usr/local/lib/python3.10/dist-packages (from scikit-learn>=0.21->open3d) (1.11.3)\n",
            "Requirement already satisfied: joblib>=1.1.1 in /usr/local/lib/python3.10/dist-packages (from scikit-learn>=0.21->open3d) (1.3.2)\n",
            "Requirement already satisfied: threadpoolctl>=2.0.0 in /usr/local/lib/python3.10/dist-packages (from scikit-learn>=0.21->open3d) (3.2.0)\n",
            "Requirement already satisfied: MarkupSafe>=2.1.1 in /usr/local/lib/python3.10/dist-packages (from werkzeug>=2.2.3->open3d) (2.1.3)\n",
            "Requirement already satisfied: Jinja2>=3.0 in /usr/local/lib/python3.10/dist-packages (from Flask<3.1,>=1.0.4->dash>=2.6.0->open3d) (3.1.2)\n",
            "Requirement already satisfied: itsdangerous>=2.0 in /usr/local/lib/python3.10/dist-packages (from Flask<3.1,>=1.0.4->dash>=2.6.0->open3d) (2.1.2)\n",
            "Requirement already satisfied: click>=8.0 in /usr/local/lib/python3.10/dist-packages (from Flask<3.1,>=1.0.4->dash>=2.6.0->open3d) (8.1.7)\n",
            "Collecting jedi>=0.16 (from ipython>=6.1.0->ipywidgets>=8.0.4->open3d)\n",
            "  Downloading jedi-0.19.1-py2.py3-none-any.whl (1.6 MB)\n",
            "\u001b[2K     \u001b[90m━━━━━━━━━━━━━━━━━━━━━━━━━━━━━━━━━━━━━━━━\u001b[0m \u001b[32m1.6/1.6 MB\u001b[0m \u001b[31m81.1 MB/s\u001b[0m eta \u001b[36m0:00:00\u001b[0m\n",
            "\u001b[?25hRequirement already satisfied: decorator in /usr/local/lib/python3.10/dist-packages (from ipython>=6.1.0->ipywidgets>=8.0.4->open3d) (4.4.2)\n",
            "Requirement already satisfied: pickleshare in /usr/local/lib/python3.10/dist-packages (from ipython>=6.1.0->ipywidgets>=8.0.4->open3d) (0.7.5)\n",
            "Requirement already satisfied: prompt-toolkit!=3.0.0,!=3.0.1,<3.1.0,>=2.0.0 in /usr/local/lib/python3.10/dist-packages (from ipython>=6.1.0->ipywidgets>=8.0.4->open3d) (3.0.41)\n",
            "Requirement already satisfied: pygments in /usr/local/lib/python3.10/dist-packages (from ipython>=6.1.0->ipywidgets>=8.0.4->open3d) (2.16.1)\n",
            "Requirement already satisfied: backcall in /usr/local/lib/python3.10/dist-packages (from ipython>=6.1.0->ipywidgets>=8.0.4->open3d) (0.2.0)\n",
            "Requirement already satisfied: matplotlib-inline in /usr/local/lib/python3.10/dist-packages (from ipython>=6.1.0->ipywidgets>=8.0.4->open3d) (0.1.6)\n",
            "Requirement already satisfied: pexpect>4.3 in /usr/local/lib/python3.10/dist-packages (from ipython>=6.1.0->ipywidgets>=8.0.4->open3d) (4.8.0)\n",
            "Requirement already satisfied: attrs>=22.2.0 in /usr/local/lib/python3.10/dist-packages (from jsonschema>=2.6->nbformat==5.7.0->open3d) (23.1.0)\n",
            "Requirement already satisfied: jsonschema-specifications>=2023.03.6 in /usr/local/lib/python3.10/dist-packages (from jsonschema>=2.6->nbformat==5.7.0->open3d) (2023.11.1)\n",
            "Requirement already satisfied: referencing>=0.28.4 in /usr/local/lib/python3.10/dist-packages (from jsonschema>=2.6->nbformat==5.7.0->open3d) (0.31.0)\n",
            "Requirement already satisfied: rpds-py>=0.7.1 in /usr/local/lib/python3.10/dist-packages (from jsonschema>=2.6->nbformat==5.7.0->open3d) (0.12.0)\n",
            "Requirement already satisfied: tenacity>=6.2.0 in /usr/local/lib/python3.10/dist-packages (from plotly>=5.0.0->dash>=2.6.0->open3d) (8.2.3)\n",
            "Requirement already satisfied: six>=1.5 in /usr/local/lib/python3.10/dist-packages (from python-dateutil>=2.7->matplotlib>=3->open3d) (1.16.0)\n",
            "Requirement already satisfied: zipp>=0.5 in /usr/local/lib/python3.10/dist-packages (from importlib-metadata->dash>=2.6.0->open3d) (3.17.0)\n",
            "Requirement already satisfied: platformdirs>=2.5 in /usr/local/lib/python3.10/dist-packages (from jupyter-core->nbformat==5.7.0->open3d) (4.0.0)\n",
            "Requirement already satisfied: charset-normalizer<4,>=2 in /usr/local/lib/python3.10/dist-packages (from requests->dash>=2.6.0->open3d) (3.3.2)\n",
            "Requirement already satisfied: idna<4,>=2.5 in /usr/local/lib/python3.10/dist-packages (from requests->dash>=2.6.0->open3d) (3.4)\n",
            "Requirement already satisfied: urllib3<3,>=1.21.1 in /usr/local/lib/python3.10/dist-packages (from requests->dash>=2.6.0->open3d) (2.0.7)\n",
            "Requirement already satisfied: certifi>=2017.4.17 in /usr/local/lib/python3.10/dist-packages (from requests->dash>=2.6.0->open3d) (2023.7.22)\n",
            "Requirement already satisfied: parso<0.9.0,>=0.8.3 in /usr/local/lib/python3.10/dist-packages (from jedi>=0.16->ipython>=6.1.0->ipywidgets>=8.0.4->open3d) (0.8.3)\n",
            "Requirement already satisfied: ptyprocess>=0.5 in /usr/local/lib/python3.10/dist-packages (from pexpect>4.3->ipython>=6.1.0->ipywidgets>=8.0.4->open3d) (0.7.0)\n",
            "Requirement already satisfied: wcwidth in /usr/local/lib/python3.10/dist-packages (from prompt-toolkit!=3.0.0,!=3.0.1,<3.1.0,>=2.0.0->ipython>=6.1.0->ipywidgets>=8.0.4->open3d) (0.2.10)\n",
            "Installing collected packages: dash-table, dash-html-components, dash-core-components, addict, widgetsnbextension, retrying, pyquaternion, jedi, configargparse, comm, ansi2html, ipywidgets, dash, nbformat, open3d\n",
            "  Attempting uninstall: widgetsnbextension\n",
            "    Found existing installation: widgetsnbextension 3.6.6\n",
            "    Uninstalling widgetsnbextension-3.6.6:\n",
            "      Successfully uninstalled widgetsnbextension-3.6.6\n",
            "  Attempting uninstall: ipywidgets\n",
            "    Found existing installation: ipywidgets 7.7.1\n",
            "    Uninstalling ipywidgets-7.7.1:\n",
            "      Successfully uninstalled ipywidgets-7.7.1\n",
            "  Attempting uninstall: nbformat\n",
            "    Found existing installation: nbformat 5.9.2\n",
            "    Uninstalling nbformat-5.9.2:\n",
            "      Successfully uninstalled nbformat-5.9.2\n",
            "Successfully installed addict-2.4.0 ansi2html-1.8.0 comm-0.2.0 configargparse-1.7 dash-2.14.1 dash-core-components-2.0.0 dash-html-components-2.0.0 dash-table-5.0.0 ipywidgets-8.1.1 jedi-0.19.1 nbformat-5.7.0 open3d-0.17.0 pyquaternion-0.9.9 retrying-1.3.4 widgetsnbextension-4.0.9\n"
          ]
        }
      ],
      "source": [
        "!pip install open3d"
      ]
    },
    {
      "cell_type": "code",
      "execution_count": null,
      "metadata": {
        "colab": {
          "base_uri": "https://localhost:8080/"
        },
        "id": "maGl_WtXNYGX",
        "outputId": "804ec3da-25a0-4f0f-980e-7a43969e966f"
      },
      "outputs": [
        {
          "output_type": "stream",
          "name": "stdout",
          "text": [
            "Collecting trimesh\n",
            "  Downloading trimesh-4.0.4-py3-none-any.whl (688 kB)\n",
            "\u001b[2K     \u001b[90m━━━━━━━━━━━━━━━━━━━━━━━━━━━━━━━━━━━━━━━━\u001b[0m \u001b[32m688.2/688.2 kB\u001b[0m \u001b[31m6.2 MB/s\u001b[0m eta \u001b[36m0:00:00\u001b[0m\n",
            "\u001b[?25hRequirement already satisfied: numpy in /usr/local/lib/python3.10/dist-packages (from trimesh) (1.23.5)\n",
            "Installing collected packages: trimesh\n",
            "Successfully installed trimesh-4.0.4\n"
          ]
        }
      ],
      "source": [
        "!pip install trimesh"
      ]
    },
    {
      "cell_type": "code",
      "execution_count": null,
      "metadata": {
        "id": "k6r3EnfmILgT",
        "colab": {
          "base_uri": "https://localhost:8080/",
          "height": 34
        },
        "outputId": "cf9e0698-2783-472b-d23b-aa2ce721a4c7"
      },
      "outputs": [
        {
          "output_type": "stream",
          "name": "stdout",
          "text": [
            "[Open3D INFO] Resetting default logger to print to terminal.\n"
          ]
        }
      ],
      "source": [
        "import pandas as pd\n",
        "import numpy as np\n",
        "import matplotlib.pyplot as plt\n",
        "import seaborn as sns\n",
        "import os\n",
        "import re\n",
        "from glob import glob\n",
        "import trimesh\n",
        "import time\n",
        "import torch\n",
        "import torch.nn as nn\n",
        "import torch.nn.functional as F\n",
        "import torchmetrics\n",
        "from torchmetrics.classification import MulticlassMatthewsCorrCoef\n",
        "import open3d as o3\n",
        "\n",
        "from open3d.web_visualizer import draw\n",
        "\n",
        "import matplotlib as mpl\n",
        "%matplotlib inline"
      ]
    },
    {
      "cell_type": "code",
      "execution_count": null,
      "metadata": {
        "id": "5p-OGYnyIwvj"
      },
      "outputs": [],
      "source": [
        "#to remove unnecessary warnings\n",
        "import warnings\n",
        "warnings.filterwarnings(\"ignore\")"
      ]
    },
    {
      "cell_type": "code",
      "execution_count": null,
      "metadata": {
        "id": "2J1DT--wJdv3",
        "colab": {
          "base_uri": "https://localhost:8080/"
        },
        "outputId": "2d3d8a5f-dd53-4fbe-d0fd-f9234181d38e"
      },
      "outputs": [
        {
          "output_type": "stream",
          "name": "stdout",
          "text": [
            "Downloading https://3dvision.princeton.edu/projects/2014/3DShapeNets/ModelNet10.zip to ./data/ModelNet10.zip\n"
          ]
        },
        {
          "output_type": "stream",
          "name": "stderr",
          "text": [
            "100%|██████████| 473402300/473402300 [00:11<00:00, 40465768.81it/s]\n"
          ]
        },
        {
          "output_type": "stream",
          "name": "stdout",
          "text": [
            "Extracting ./data/ModelNet10.zip to ./data\n"
          ]
        }
      ],
      "source": [
        "from torchvision.datasets.utils import download_and_extract_archive\n",
        "\n",
        "DATA_DIR = \"./data\"  # You can change this to your desired directory\n",
        "\n",
        "# URL for ModelNet10 dataset\n",
        "url = \"http://3dvision.princeton.edu/projects/2014/3DShapeNets/ModelNet10.zip\"\n",
        "\n",
        "# Download and extract the dataset\n",
        "download_and_extract_archive(url, download_root=DATA_DIR, extract_root=DATA_DIR)\n",
        "\n",
        "# Now DATA_DIR contains the extracted ModelNet10 dataset\n"
      ]
    },
    {
      "cell_type": "code",
      "source": [
        "\n",
        "mesh = trimesh.load(os.path.join(DATA_DIR, \"ModelNet10/chair/train/chair_0001.off\"))\n",
        "\n",
        "# sample point from\n",
        "mesh.show()\n",
        "points = mesh.sample(2048)\n",
        "\n",
        "fig = plt.figure(figsize=(5, 5))\n",
        "ax = fig.add_subplot(111, projection=\"3d\")\n",
        "ax.scatter(points[:, 0], points[:, 1], points[:, 2])\n",
        "ax.set_axis_off()\n",
        "plt.show()"
      ],
      "metadata": {
        "colab": {
          "base_uri": "https://localhost:8080/",
          "height": 422
        },
        "id": "MYYrLOsZj5Jf",
        "outputId": "362b262e-3f96-4946-fffc-e34cb8879371"
      },
      "execution_count": null,
      "outputs": [
        {
          "output_type": "display_data",
          "data": {
            "text/plain": [
              "<Figure size 500x500 with 1 Axes>"
            ],
            "image/png": "[encoded data removed]"
          },
          "metadata": {}
        }
      ]
    },
    {
      "cell_type": "code",
      "source": [
        "# function to parse dataset\n",
        "import glob\n",
        "def parse_dataset(num_points=2048):\n",
        "\n",
        "    train_points = []\n",
        "    train_labels = []\n",
        "    test_points = []\n",
        "    test_labels = []\n",
        "    class_map = {}\n",
        "    folders = glob.glob(os.path.join(DATA_DIR, \"ModelNet10/[!README]*\"))\n",
        "\n",
        "    for i, folder in enumerate(folders):\n",
        "        print(\"processing class: {}\".format(os.path.basename(folder)))\n",
        "        # store folder name with ID so we can retrieve later\n",
        "        class_map[i] = folder.split(\"/\")[-1]\n",
        "        # gather all files\n",
        "        train_files = glob.glob(os.path.join(folder, \"train/*\"))\n",
        "        test_files = glob.glob(os.path.join(folder, \"test/*\"))\n",
        "\n",
        "        for f in train_files:\n",
        "            train_points.append(trimesh.load(f).sample(num_points))\n",
        "            train_labels.append(i)\n",
        "\n",
        "        for f in test_files:\n",
        "            test_points.append(trimesh.load(f).sample(num_points))\n",
        "            test_labels.append(i)\n",
        "\n",
        "    return (\n",
        "        torch.Tensor(train_points),\n",
        "        torch.Tensor(test_points),\n",
        "        torch.Tensor(train_labels),\n",
        "        torch.Tensor(test_labels),\n",
        "        class_map,\n",
        "    )\n",
        "\n",
        "\n",
        "NUM_POINTS = 2048\n",
        "NUM_CLASSES = 10\n",
        "BATCH_SIZE = 32\n",
        "\n",
        "train_points, test_points, train_labels, test_labels, CLASS_MAP = parse_dataset(\n",
        "    NUM_POINTS\n",
        ")"
      ],
      "metadata": {
        "colab": {
          "base_uri": "https://localhost:8080/"
        },
        "id": "SjfbgzhB1htF",
        "outputId": "cd1648c9-32f8-4d96-e7c6-bee7efc090bd"
      },
      "execution_count": null,
      "outputs": [
        {
          "output_type": "stream",
          "name": "stdout",
          "text": [
            "processing class: sofa\n",
            "processing class: chair\n",
            "processing class: bathtub\n",
            "processing class: night_stand\n",
            "processing class: desk\n",
            "processing class: dresser\n",
            "processing class: bed\n",
            "processing class: toilet\n",
            "processing class: table\n",
            "processing class: monitor\n"
          ]
        }
      ]
    },
    {
      "cell_type": "code",
      "source": [
        "print(f\"Train Feature shape: {train_points.size()}\")\n",
        "print(f\"Train Labels shape: {train_labels.size()}\")\n",
        "print(f\"Test Feature shape: {test_points.size()}\")\n",
        "print(f\"Test Labels shape: {test_labels.size()}\")"
      ],
      "metadata": {
        "colab": {
          "base_uri": "https://localhost:8080/"
        },
        "id": "Zg5e3wQ5xY-D",
        "outputId": "605db836-7fd1-491c-b33f-d48af910dcdb"
      },
      "execution_count": null,
      "outputs": [
        {
          "output_type": "stream",
          "name": "stdout",
          "text": [
            "Train Feature shape: torch.Size([3991, 2048, 3])\n",
            "Train Labels shape: torch.Size([3991])\n",
            "Test Feature shape: torch.Size([908, 2048, 3])\n",
            "Test Labels shape: torch.Size([908])\n"
          ]
        }
      ]
    },
    {
      "cell_type": "code",
      "source": [
        "CLASS_MAP"
      ],
      "metadata": {
        "colab": {
          "base_uri": "https://localhost:8080/"
        },
        "id": "EAWNVOus0Q5k",
        "outputId": "b3f197fd-862f-4fb2-8a65-06ef7a1fd1a0"
      },
      "execution_count": null,
      "outputs": [
        {
          "output_type": "execute_result",
          "data": {
            "text/plain": [
              "{0: 'sofa',\n",
              " 1: 'chair',\n",
              " 2: 'bathtub',\n",
              " 3: 'night_stand',\n",
              " 4: 'desk',\n",
              " 5: 'dresser',\n",
              " 6: 'bed',\n",
              " 7: 'toilet',\n",
              " 8: 'table',\n",
              " 9: 'monitor'}"
            ]
          },
          "metadata": {},
          "execution_count": 11
        }
      ]
    },
    {
      "cell_type": "code",
      "source": [
        "from torch.utils.data import Dataset, DataLoader\n",
        "from sklearn.utils import shuffle\n",
        "\n",
        "def augment(points, label):\n",
        "    # jitter points\n",
        "    points += torch.rand_like(points) * 0.01 - 0.005\n",
        "    # shuffle points\n",
        "    indices = torch.randperm(points.shape[0])\n",
        "    points = points[indices]\n",
        "    return points, label\n",
        "\n",
        "class PointCloudDataset(Dataset):\n",
        "    def __init__(self, points, labels):\n",
        "        self.points = points\n",
        "        self.labels = labels\n",
        "\n",
        "    def __len__(self):\n",
        "        return len(self.points)\n",
        "\n",
        "    def __getitem__(self, idx):\n",
        "        return {'points': self.points[idx], 'labels': self.labels[idx]}\n",
        "\n",
        "# Assuming train_points, train_labels, test_points, and test_labels are already defined\n",
        "\n",
        "# Create datasets and apply augmentation\n",
        "train_dataset = PointCloudDataset(train_points, train_labels)\n",
        "test_dataset = PointCloudDataset(test_points, test_labels)\n",
        "\n",
        "# Shuffle the training data\n",
        "train_dataset.points, train_dataset.labels = shuffle(train_dataset.points, train_dataset.labels)\n",
        "\n",
        "# Apply augmentation to the training dataset\n",
        "train_dataset.points, train_dataset.labels = augment(train_dataset.points, train_dataset.labels)\n",
        "\n",
        "# Create data loaders\n",
        "train_loader = DataLoader(train_dataset, batch_size=BATCH_SIZE, shuffle=True)\n",
        "test_loader = DataLoader(test_dataset, batch_size=BATCH_SIZE, shuffle=False)\n",
        "\n",
        "# Example usage in the training loop\n",
        "for batch in train_loader:\n",
        "    points, labels = batch['points'], batch['labels']\n",
        "    # Your training logic here\n"
      ],
      "metadata": {
        "id": "b_sv0ikpCRUl"
      },
      "execution_count": null,
      "outputs": []
    },
    {
      "cell_type": "code",
      "source": [
        "train_loader"
      ],
      "metadata": {
        "colab": {
          "base_uri": "https://localhost:8080/"
        },
        "id": "6k2vSJsxELaW",
        "outputId": "48cae059-e966-459d-f67b-1e8e17dbf2b4"
      },
      "execution_count": null,
      "outputs": [
        {
          "output_type": "execute_result",
          "data": {
            "text/plain": [
              "<torch.utils.data.dataloader.DataLoader at 0x7f2f80357280>"
            ]
          },
          "metadata": {},
          "execution_count": 13
        }
      ]
    },
    {
      "cell_type": "code",
      "source": [
        "total_train_targets = []\n",
        "for batch in train_loader:\n",
        "    targets = batch['labels']\n",
        "    total_train_targets += targets.view(-1).numpy().tolist()\n",
        "\n",
        "total_train_targets = np.array(total_train_targets)"
      ],
      "metadata": {
        "id": "mdn9lRovEOtf"
      },
      "execution_count": null,
      "outputs": []
    },
    {
      "cell_type": "code",
      "source": [
        "class_bins = np.bincount(total_train_targets.astype(int))\n",
        "\n",
        "plt.bar(list(CLASS_MAP.keys()), class_bins,\n",
        "        color=mpl.cm.tab20(np.arange(0, NUM_CLASSES)),\n",
        "        edgecolor='black')\n",
        "plt.xticks(list(CLASS_MAP.keys()), list(CLASS_MAP.keys()), size=12, rotation=90)\n",
        "plt.ylabel('Counts', size=12)\n",
        "plt.title('Train Class Frequencies', size=14, pad=20)\n"
      ],
      "metadata": {
        "colab": {
          "base_uri": "https://localhost:8080/",
          "height": 486
        },
        "id": "qj3HAu2OETtG",
        "outputId": "82382bf3-c654-4608-cae8-c14d70d689f5"
      },
      "execution_count": null,
      "outputs": [
        {
          "output_type": "execute_result",
          "data": {
            "text/plain": [
              "Text(0.5, 1.0, 'Train Class Frequencies')"
            ]
          },
          "metadata": {},
          "execution_count": 15
        },
        {
          "output_type": "display_data",
          "data": {
            "text/plain": [
              "<Figure size 640x480 with 1 Axes>"
            ],
            "image/png": "[encoded data removed]"
          },
          "metadata": {}
        }
      ]
    },
    {
      "cell_type": "code",
      "source": [
        "class Tnet(nn.Module):\n",
        "    def __init__(self, dim, num_points=2048):\n",
        "        super(Tnet, self).__init__()\n",
        "\n",
        "        # dimensions for transform matrix\n",
        "        self.dim = dim\n",
        "\n",
        "        self.conv1 = nn.Conv1d(dim, 64, kernel_size=1)\n",
        "        self.conv2 = nn.Conv1d(64, 128, kernel_size=1)\n",
        "        self.conv3 = nn.Conv1d(128, 1024, kernel_size=1)\n",
        "\n",
        "        self.linear1 = nn.Linear(1024, 512)\n",
        "        self.linear2 = nn.Linear(512, 256)\n",
        "        self.linear3 = nn.Linear(256, dim**2)\n",
        "\n",
        "        self.bn1 = nn.BatchNorm1d(64)\n",
        "        self.bn2 = nn.BatchNorm1d(128)\n",
        "        self.bn3 = nn.BatchNorm1d(1024)\n",
        "        self.bn4 = nn.BatchNorm1d(512)\n",
        "        self.bn5 = nn.BatchNorm1d(256)\n",
        "\n",
        "        self.max_pool = nn.MaxPool1d(kernel_size=num_points)\n",
        "\n",
        "\n",
        "    def forward(self, x):\n",
        "        bs = x.shape[0]\n",
        "\n",
        "        # pass through shared MLP layers (conv1d)\n",
        "        x = self.bn1(F.relu(self.conv1(x)))\n",
        "        x = self.bn2(F.relu(self.conv2(x)))\n",
        "        x = self.bn3(F.relu(self.conv3(x)))\n",
        "\n",
        "        # max pool over num points\n",
        "        x = self.max_pool(x).view(bs, -1)\n",
        "\n",
        "        # pass through MLP\n",
        "        x = self.bn4(F.relu(self.linear1(x)))\n",
        "        x = self.bn5(F.relu(self.linear2(x)))\n",
        "        x = self.linear3(x)\n",
        "\n",
        "        # initialize identity matrix\n",
        "        iden = torch.eye(self.dim, requires_grad=True).repeat(bs, 1, 1)\n",
        "        if x.is_cuda:\n",
        "            iden = iden.cuda()\n",
        "\n",
        "        x = x.view(-1, self.dim, self.dim) + iden\n",
        "\n",
        "        return x"
      ],
      "metadata": {
        "id": "AjD-PWngGGZO"
      },
      "execution_count": null,
      "outputs": []
    },
    {
      "cell_type": "code",
      "source": [
        "class PointNetBackbone(nn.Module):\n",
        "    def __init__(self, num_points=2048, num_global_feats=1024, local_feat=True):\n",
        "        super(PointNetBackbone, self).__init__()\n",
        "\n",
        "        # if true concat local and global features\n",
        "        self.num_points = num_points\n",
        "        self.num_global_feats = num_global_feats\n",
        "        self.local_feat = local_feat\n",
        "\n",
        "        # Spatial Transformer Networks (T-nets)\n",
        "        self.tnet1 = Tnet(dim=3, num_points=num_points)\n",
        "        self.tnet2 = Tnet(dim=64, num_points=num_points)\n",
        "\n",
        "        # shared MLP 1\n",
        "        self.conv1 = nn.Conv1d(3, 64, kernel_size=1)\n",
        "        self.conv2 = nn.Conv1d(64, 64, kernel_size=1)\n",
        "\n",
        "        # shared MLP 2\n",
        "        self.conv3 = nn.Conv1d(64, 64, kernel_size=1)\n",
        "        self.conv4 = nn.Conv1d(64, 128, kernel_size=1)\n",
        "        self.conv5 = nn.Conv1d(128, self.num_global_feats, kernel_size=1)\n",
        "\n",
        "        # batch norms for both shared MLPs\n",
        "        self.bn1 = nn.BatchNorm1d(64)\n",
        "        self.bn2 = nn.BatchNorm1d(64)\n",
        "        self.bn3 = nn.BatchNorm1d(64)\n",
        "        self.bn4 = nn.BatchNorm1d(128)\n",
        "        self.bn5 = nn.BatchNorm1d(self.num_global_feats)\n",
        "\n",
        "        # max pool to get the global features\n",
        "        self.max_pool = nn.MaxPool1d(kernel_size=num_points, return_indices=True)\n",
        "\n",
        "\n",
        "    def forward(self, x):\n",
        "\n",
        "        # get batch size\n",
        "        bs = x.shape[0]\n",
        "\n",
        "        # pass through first Tnet to get transform matrix\n",
        "        A_input = self.tnet1(x)\n",
        "\n",
        "        # perform first transformation across each point in the batch\n",
        "        x = torch.bmm(x.transpose(2, 1), A_input).transpose(2, 1)\n",
        "\n",
        "        # pass through first shared MLP\n",
        "        x = self.bn1(F.relu(self.conv1(x)))\n",
        "        x = self.bn2(F.relu(self.conv2(x)))\n",
        "\n",
        "        # get feature transform\n",
        "        A_feat = self.tnet2(x)\n",
        "\n",
        "        # perform second transformation across each (64 dim) feature in the batch\n",
        "        x = torch.bmm(x.transpose(2, 1), A_feat).transpose(2, 1)\n",
        "\n",
        "        # store local point features for segmentation head\n",
        "        local_features = x.clone()\n",
        "\n",
        "        # pass through second MLP\n",
        "        x = self.bn3(F.relu(self.conv3(x)))\n",
        "        x = self.bn4(F.relu(self.conv4(x)))\n",
        "        x = self.bn5(F.relu(self.conv5(x)))\n",
        "\n",
        "        # get global feature vector and critical indexes\n",
        "        global_features, critical_indexes = self.max_pool(x)\n",
        "        global_features = global_features.view(bs, -1)\n",
        "        critical_indexes = critical_indexes.view(bs, -1)\n",
        "\n",
        "        if self.local_feat:\n",
        "            features = torch.cat((local_features,\n",
        "                                  global_features.unsqueeze(-1).repeat(1, 1, self.num_points)),\n",
        "                                  dim=1)\n",
        "\n",
        "            return features, critical_indexes, A_feat\n",
        "\n",
        "        else:\n",
        "            return global_features, critical_indexes, A_feat"
      ],
      "metadata": {
        "id": "02ORRAuNF2WT"
      },
      "execution_count": null,
      "outputs": []
    },
    {
      "cell_type": "code",
      "source": [
        "# Classification Head\n",
        "class PointNetClassHead(nn.Module):\n",
        "    def __init__(self, num_points=2048, num_global_feats=1024, k=2):\n",
        "        super(PointNetClassHead, self).__init__()\n",
        "\n",
        "        # get the backbone (only need global features for classification)\n",
        "        self.backbone = PointNetBackbone(num_points, num_global_feats, local_feat=False)\n",
        "\n",
        "        # MLP for classification\n",
        "        self.linear1 = nn.Linear(num_global_feats, 512)\n",
        "        self.linear2 = nn.Linear(512, 256)\n",
        "        self.linear3 = nn.Linear(256, k)\n",
        "\n",
        "        # batchnorm for the first 2 linear layers\n",
        "        self.bn1 = nn.BatchNorm1d(512)\n",
        "        self.bn2 = nn.BatchNorm1d(256)\n",
        "\n",
        "        # The paper states that batch norm was only added to the layer\n",
        "        # before the classication layer, but another version adds dropout\n",
        "        # to the first 2 layers\n",
        "        self.dropout = nn.Dropout(p=0.3)\n",
        "\n",
        "\n",
        "    def forward(self, x):\n",
        "        # get global features\n",
        "        x, crit_idxs, A_feat = self.backbone(x)\n",
        "\n",
        "        x = self.bn1(F.relu(self.linear1(x)))\n",
        "        x = self.bn2(F.relu(self.linear2(x)))\n",
        "        x = self.dropout(x)\n",
        "        x = self.linear3(x)\n",
        "\n",
        "        # return logits\n",
        "        return x, crit_idxs, A_feat"
      ],
      "metadata": {
        "id": "f9zt4aF_EiSa"
      },
      "execution_count": null,
      "outputs": []
    },
    {
      "cell_type": "code",
      "source": [
        "for batch in train_loader:\n",
        "    points, labels = batch['points'], batch['labels']\n",
        "\n",
        "GLOBAL_FEATS = 1024\n",
        "classifier = PointNetClassHead(k=NUM_CLASSES, num_global_feats=GLOBAL_FEATS)\n",
        "out, _, _ = classifier(points.transpose(2, 1))\n",
        "print(f'Class output shape: {out.shape}')"
      ],
      "metadata": {
        "colab": {
          "base_uri": "https://localhost:8080/"
        },
        "id": "EriFx2w4Gnh5",
        "outputId": "c05ce5da-d245-4b9d-80d5-0ade0856a318"
      },
      "execution_count": null,
      "outputs": [
        {
          "output_type": "stream",
          "name": "stdout",
          "text": [
            "Class output shape: torch.Size([23, 10])\n"
          ]
        }
      ]
    },
    {
      "cell_type": "code",
      "source": [
        "DEVICE = 'cuda' if torch.cuda.is_available() else 'cpu'\n",
        "DEVICE"
      ],
      "metadata": {
        "colab": {
          "base_uri": "https://localhost:8080/",
          "height": 36
        },
        "id": "YaTrgfMGJZf-",
        "outputId": "bed64f56-05cb-4920-c085-d45a461bb667"
      },
      "execution_count": null,
      "outputs": [
        {
          "output_type": "execute_result",
          "data": {
            "text/plain": [
              "'cuda'"
            ],
            "application/vnd.google.colaboratory.intrinsic+json": {
              "type": "string"
            }
          },
          "metadata": {},
          "execution_count": 20
        }
      ]
    },
    {
      "cell_type": "code",
      "source": [
        "# special loss for Classification: Focal Loss + regularization\n",
        "class PointNetLoss(nn.Module):\n",
        "    def __init__(self, alpha=None, gamma=0, reg_weight=0, size_average=True):\n",
        "        super(PointNetLoss, self).__init__()\n",
        "        self.alpha = alpha\n",
        "        self.gamma = gamma\n",
        "        self.reg_weight = reg_weight\n",
        "        self.size_average = size_average\n",
        "\n",
        "        # sanitize inputs\n",
        "        if isinstance(alpha,(float, int)): self.alpha = torch.Tensor([alpha,1-alpha])\n",
        "        if isinstance(alpha,(list, np.ndarray)): self.alpha = torch.Tensor(alpha)\n",
        "\n",
        "        # get Balanced Cross Entropy Loss\n",
        "        self.cross_entropy_loss = nn.CrossEntropyLoss(weight=self.alpha)\n",
        "\n",
        "\n",
        "    def forward(self, predictions, targets, A=None):\n",
        "\n",
        "        # get batch size\n",
        "        bs = predictions.size(0)\n",
        "\n",
        "        # get Balanced Cross Entropy Loss\n",
        "        ce_loss = self.cross_entropy_loss(predictions, targets)\n",
        "\n",
        "        # get predicted class probabilities for the true class\n",
        "        pn = F.softmax(predictions)\n",
        "        pn = pn.gather(1, targets.view(-1, 1)).view(-1)\n",
        "\n",
        "        # get regularization term\n",
        "        if self.reg_weight > 0:\n",
        "            I = torch.eye(64).unsqueeze(0).repeat(A.shape[0], 1, 1) # .to(device)\n",
        "            if A.is_cuda: I = I.cuda()\n",
        "            reg = torch.linalg.norm(I - torch.bmm(A, A.transpose(2, 1)))\n",
        "            reg = self.reg_weight*reg/bs\n",
        "        else:\n",
        "            reg = 0\n",
        "\n",
        "        # compute loss (negative sign is included in ce_loss)\n",
        "        loss = ((1 - pn)**self.gamma * ce_loss)\n",
        "        if self.size_average: return loss.mean() + reg\n",
        "        else: return loss.sum() + reg"
      ],
      "metadata": {
        "id": "wnfFJtaGM5cK"
      },
      "execution_count": null,
      "outputs": []
    },
    {
      "cell_type": "code",
      "source": [
        "import torch.optim as optim\n",
        "EPOCHS = 50\n",
        "LR = 0.01\n",
        "REG_WEIGHT = 0.01\n",
        "\n",
        "# use inverse class weighting\n",
        "# alpha = 1 / class_bins\n",
        "# alpha = (alpha/alpha.max())\n",
        "\n",
        "# manually downweight the high frequency classes\n",
        "alpha = np.ones(NUM_CLASSES)\n",
        "alpha[0] = 0.5  # airplane\n",
        "alpha[4] = 0.5  # chair\n",
        "alpha[-1] = 0.5 # table\n",
        "\n",
        "gamma = 2\n",
        "\n",
        "optimizer = optim.Adam(classifier.parameters(), lr=LR)\n",
        "scheduler = torch.optim.lr_scheduler.CyclicLR(optimizer, base_lr=0.0001, max_lr=0.01,\n",
        "                                              step_size_up=2000, cycle_momentum=False)\n",
        "criterion = PointNetLoss(alpha=alpha, gamma=gamma, reg_weight=REG_WEIGHT).to(DEVICE)\n",
        "\n",
        "classifier = classifier.to(DEVICE)"
      ],
      "metadata": {
        "id": "gT6gNAzfNM3J"
      },
      "execution_count": null,
      "outputs": []
    },
    {
      "cell_type": "code",
      "source": [
        "mcc_metric = MulticlassMatthewsCorrCoef(num_classes=NUM_CLASSES).to(DEVICE)"
      ],
      "metadata": {
        "id": "D7J9JtoXNa4U"
      },
      "execution_count": null,
      "outputs": []
    },
    {
      "cell_type": "code",
      "source": [
        "def train_test(classifier, dataloader, num_batch, epoch, split='train'):\n",
        "    _loss = []\n",
        "    _accuracy = []\n",
        "    _mcc = []\n",
        "\n",
        "    total_test_targets = []\n",
        "    total_test_preds = []\n",
        "\n",
        "    for i, batch in enumerate(dataloader, 0):\n",
        "        points, targets = batch['points'], batch['labels']\n",
        "        points = points.transpose(2, 1).to(DEVICE)\n",
        "\n",
        "        # Convert targets to Long data type\n",
        "        targets = targets.squeeze().long().to(DEVICE)\n",
        "\n",
        "        optimizer.zero_grad()\n",
        "        preds, _, A = classifier(points)\n",
        "\n",
        "        loss = criterion(preds, targets, A)\n",
        "\n",
        "        if split == 'train':\n",
        "            loss.backward()\n",
        "            optimizer.step()\n",
        "            scheduler.step()\n",
        "\n",
        "        pred_choice = torch.softmax(preds, dim=1).argmax(dim=1)\n",
        "        correct = pred_choice.eq(targets.data).cpu().sum()\n",
        "        accuracy = correct.item() / float(BATCH_SIZE)\n",
        "        mcc = mcc_metric(preds, targets)\n",
        "\n",
        "        _loss.append(loss.item())\n",
        "        _accuracy.append(accuracy)\n",
        "        _mcc.append(mcc.item())\n",
        "\n",
        "        if split == 'test':\n",
        "            total_test_targets += targets.reshape(-1).cpu().numpy().tolist()\n",
        "            total_test_preds += pred_choice.reshape(-1).cpu().numpy().tolist()\n",
        "\n",
        "        if i % 100 == 0:\n",
        "            print(f'\\t [{epoch}: {i}/{num_batch}] ' \\\n",
        "                  + f'{split} loss: {loss.item():.4f} ' \\\n",
        "                  + f'accuracy: {accuracy:.4f} mcc: {mcc:.4f}')\n",
        "\n",
        "    epoch_loss = np.mean(_loss)\n",
        "    epoch_accuracy = np.mean(_accuracy)\n",
        "    epoch_mcc = np.mean(_mcc)\n",
        "\n",
        "    print(f'Epoch: {epoch} - {split} Loss: {epoch_loss:.4f} ' \\\n",
        "          + f'- {split} Accuracy: {epoch_accuracy:.4f} ' \\\n",
        "          + f'- {split} MCC: {epoch_mcc:.4f}')\n",
        "\n",
        "    if split == 'test':\n",
        "        return epoch_loss, epoch_accuracy, epoch_mcc, total_test_targets, total_test_preds\n",
        "    else:\n",
        "        return epoch_loss, epoch_accuracy, epoch_mcc\n"
      ],
      "metadata": {
        "id": "QqIfP7nOTL84"
      },
      "execution_count": null,
      "outputs": []
    },
    {
      "cell_type": "code",
      "source": [
        "# stuff for training\n",
        "num_train_batch = int(np.ceil(len(train_dataset)/BATCH_SIZE))\n",
        "num_valid_batch = int(np.ceil(len(test_dataset)/BATCH_SIZE))\n",
        "\n",
        "# store best validation mcc above 0.\n",
        "best_mcc = 0.\n",
        "\n",
        "# lists to store metrics (loss, accuracy, mcc)\n",
        "train_metrics = []\n",
        "valid_metrics = []\n",
        "\n",
        "# TRAIN ON EPOCHS\n",
        "for epoch in range(1, EPOCHS):\n",
        "\n",
        "    ## train loop\n",
        "    classifier = classifier.train()\n",
        "\n",
        "    # train\n",
        "    _train_metrics = train_test(classifier, train_loader,\n",
        "                                num_train_batch, epoch,\n",
        "                                split='train')\n",
        "    train_metrics.append(_train_metrics)\n",
        "\n",
        "\n",
        "    # pause to cool down\n",
        "    time.sleep(4)\n",
        "\n",
        "    ## validation loop\n",
        "    with torch.no_grad():\n",
        "\n",
        "        # place model in evaluation mode\n",
        "        classifier = classifier.eval()\n",
        "\n",
        "        # validate\n",
        "        _valid_metrics = train_test(classifier, test_loader,\n",
        "                                    num_valid_batch, epoch,\n",
        "                                    split='valid')\n",
        "        valid_metrics.append(_valid_metrics)\n",
        "\n",
        "        # pause to cool down\n",
        "        time.sleep(4)\n",
        "\n",
        "\n",
        "\n",
        "# ... (your code above)\n",
        "\n",
        "# Check if the directory exists, and create it if not\n",
        "save_dir = 'trained_models/cls_focal_clr_2'\n",
        "if not os.path.exists(save_dir):\n",
        "    os.makedirs(save_dir)\n",
        "\n",
        "\n",
        "\n",
        "    # save model if necessary\n",
        "    if valid_metrics[-1][-1] >= best_mcc:\n",
        "        best_mcc = valid_metrics[-1][-1]\n",
        "        torch.save(classifier.state_dict(), 'trained_models/cls_focal_clr_2/cls_model_%d.pth' % epoch)"
      ],
      "metadata": {
        "colab": {
          "base_uri": "https://localhost:8080/"
        },
        "id": "833_h0v4NlE9",
        "outputId": "7ee017d5-9734-4736-81b0-e4e78edc9036"
      },
      "execution_count": null,
      "outputs": [
        {
          "output_type": "stream",
          "name": "stdout",
          "text": [
            "\t [1: 0/125] train loss: 2.1394 accuracy: 0.1562 mcc: -0.0599\n",
            "\t [1: 100/125] train loss: 1.9824 accuracy: 0.1562 mcc: 0.0050\n",
            "Epoch: 1 - train Loss: 1.8909 - train Accuracy: 0.2180 - train MCC: 0.0052\n",
            "\t [1: 0/29] valid loss: 1720.1469 accuracy: 0.0000 mcc: 0.0000\n",
            "Epoch: 1 - valid Loss: 3014.2806 - valid Accuracy: 0.1239 - valid MCC: 0.0108\n",
            "\t [2: 0/125] train loss: 1.7908 accuracy: 0.3125 mcc: 0.0103\n",
            "\t [2: 100/125] train loss: 2.1638 accuracy: 0.2188 mcc: -0.0512\n",
            "Epoch: 2 - train Loss: 1.9751 - train Accuracy: 0.2172 - train MCC: 0.0031\n",
            "\t [2: 0/29] valid loss: 218.1638 accuracy: 0.0000 mcc: 0.0000\n",
            "Epoch: 2 - valid Loss: 431.8643 - valid Accuracy: 0.1099 - valid MCC: 0.0021\n",
            "\t [3: 0/125] train loss: 1.7542 accuracy: 0.2188 mcc: -0.1708\n",
            "\t [3: 100/125] train loss: 1.9132 accuracy: 0.3438 mcc: 0.0772\n",
            "Epoch: 3 - train Loss: 2.0513 - train Accuracy: 0.2135 - train MCC: -0.0048\n",
            "\t [3: 0/29] valid loss: 1.8611 accuracy: 0.0000 mcc: 0.0000\n",
            "Epoch: 3 - valid Loss: 2.5277 - valid Accuracy: 0.1078 - valid MCC: 0.0000\n",
            "\t [4: 0/125] train loss: 1.6967 accuracy: 0.2500 mcc: -0.0517\n",
            "\t [4: 100/125] train loss: 1.7038 accuracy: 0.3438 mcc: 0.0850\n",
            "Epoch: 4 - train Loss: 1.8604 - train Accuracy: 0.2162 - train MCC: 0.0107\n",
            "\t [4: 0/29] valid loss: 2.0696 accuracy: 0.0000 mcc: 0.0000\n",
            "Epoch: 4 - valid Loss: 2.4924 - valid Accuracy: 0.0819 - valid MCC: -0.0110\n",
            "\t [5: 0/125] train loss: 1.7500 accuracy: 0.2188 mcc: 0.0207\n",
            "\t [5: 100/125] train loss: 1.8565 accuracy: 0.2812 mcc: 0.0583\n",
            "Epoch: 5 - train Loss: 1.8772 - train Accuracy: 0.2110 - train MCC: 0.0005\n",
            "\t [5: 0/29] valid loss: 2.3070 accuracy: 0.0625 mcc: 0.0000\n",
            "Epoch: 5 - valid Loss: 5.5237 - valid Accuracy: 0.1002 - valid MCC: -0.0075\n",
            "\t [6: 0/125] train loss: 1.6492 accuracy: 0.2812 mcc: -0.0467\n",
            "\t [6: 100/125] train loss: 1.7387 accuracy: 0.1875 mcc: -0.1087\n",
            "Epoch: 6 - train Loss: 1.8420 - train Accuracy: 0.2077 - train MCC: -0.0083\n",
            "\t [6: 0/29] valid loss: 9.1161 accuracy: 0.0000 mcc: 0.0000\n",
            "Epoch: 6 - valid Loss: 11.1100 - valid Accuracy: 0.1078 - valid MCC: 0.0000\n",
            "\t [7: 0/125] train loss: 1.6423 accuracy: 0.3125 mcc: 0.0348\n",
            "\t [7: 100/125] train loss: 1.9553 accuracy: 0.1562 mcc: -0.0734\n",
            "Epoch: 7 - train Loss: 1.7786 - train Accuracy: 0.2117 - train MCC: 0.0007\n",
            "\t [7: 0/29] valid loss: 1.2878 accuracy: 0.0000 mcc: 0.0000\n",
            "Epoch: 7 - valid Loss: 3.0587 - valid Accuracy: 0.1067 - valid MCC: 0.0000\n",
            "\t [8: 0/125] train loss: 1.6007 accuracy: 0.3438 mcc: -0.0935\n",
            "\t [8: 100/125] train loss: 1.7652 accuracy: 0.1875 mcc: 0.0000\n",
            "Epoch: 8 - train Loss: 1.7556 - train Accuracy: 0.2132 - train MCC: -0.0075\n",
            "\t [8: 0/29] valid loss: 1.1839 accuracy: 0.0000 mcc: 0.0000\n",
            "Epoch: 8 - valid Loss: 2.1948 - valid Accuracy: 0.1067 - valid MCC: 0.0000\n",
            "\t [9: 0/125] train loss: 2.0046 accuracy: 0.0938 mcc: -0.0025\n",
            "\t [9: 100/125] train loss: 1.8715 accuracy: 0.1562 mcc: -0.2091\n",
            "Epoch: 9 - train Loss: 1.7173 - train Accuracy: 0.2147 - train MCC: 0.0096\n",
            "\t [9: 0/29] valid loss: 1.6119 accuracy: 0.0000 mcc: 0.0000\n",
            "Epoch: 9 - valid Loss: 2.1030 - valid Accuracy: 0.1067 - valid MCC: 0.0000\n",
            "\t [10: 0/125] train loss: 1.9729 accuracy: 0.2812 mcc: 0.0505\n",
            "\t [10: 100/125] train loss: 1.4996 accuracy: 0.2812 mcc: -0.0653\n",
            "Epoch: 10 - train Loss: 1.7043 - train Accuracy: 0.2172 - train MCC: 0.0115\n",
            "\t [10: 0/29] valid loss: 1.5741 accuracy: 0.0000 mcc: 0.0000\n",
            "Epoch: 10 - valid Loss: 2.1103 - valid Accuracy: 0.1067 - valid MCC: 0.0000\n",
            "\t [11: 0/125] train loss: 1.6781 accuracy: 0.1875 mcc: 0.0000\n",
            "\t [11: 100/125] train loss: 1.6076 accuracy: 0.2500 mcc: -0.0487\n",
            "Epoch: 11 - train Loss: 1.6820 - train Accuracy: 0.2157 - train MCC: 0.0004\n",
            "\t [11: 0/29] valid loss: 1.3193 accuracy: 0.0000 mcc: 0.0000\n",
            "Epoch: 11 - valid Loss: 2.0884 - valid Accuracy: 0.1078 - valid MCC: 0.0000\n",
            "\t [12: 0/125] train loss: 1.7207 accuracy: 0.1562 mcc: 0.0025\n",
            "\t [12: 100/125] train loss: 1.4663 accuracy: 0.2500 mcc: 0.0000\n",
            "Epoch: 12 - train Loss: 1.6346 - train Accuracy: 0.2182 - train MCC: -0.0019\n",
            "\t [12: 0/29] valid loss: 0.7311 accuracy: 1.0000 mcc: 0.0000\n",
            "Epoch: 12 - valid Loss: 2.3425 - valid Accuracy: 0.1099 - valid MCC: 0.0034\n",
            "\t [13: 0/125] train loss: 1.9558 accuracy: 0.1562 mcc: 0.0000\n",
            "\t [13: 100/125] train loss: 1.6342 accuracy: 0.2500 mcc: 0.0374\n",
            "Epoch: 13 - train Loss: 1.6479 - train Accuracy: 0.2182 - train MCC: -0.0027\n",
            "\t [13: 0/29] valid loss: 1.7871 accuracy: 0.0000 mcc: 0.0000\n",
            "Epoch: 13 - valid Loss: 2.1430 - valid Accuracy: 0.1078 - valid MCC: 0.0000\n",
            "\t [14: 0/125] train loss: 1.2249 accuracy: 0.3125 mcc: 0.1677\n",
            "\t [14: 100/125] train loss: 1.5958 accuracy: 0.2188 mcc: 0.0000\n",
            "Epoch: 14 - train Loss: 1.6230 - train Accuracy: 0.2223 - train MCC: 0.0084\n",
            "\t [14: 0/29] valid loss: 1.3275 accuracy: 0.0000 mcc: 0.0000\n",
            "Epoch: 14 - valid Loss: 2.1837 - valid Accuracy: 0.1078 - valid MCC: 0.0000\n",
            "\t [15: 0/125] train loss: 2.1073 accuracy: 0.0625 mcc: 0.0000\n",
            "\t [15: 100/125] train loss: 1.8816 accuracy: 0.1250 mcc: 0.0043\n",
            "Epoch: 15 - train Loss: 1.6187 - train Accuracy: 0.2167 - train MCC: -0.0121\n",
            "\t [15: 0/29] valid loss: 7.4516 accuracy: 0.0000 mcc: 0.0000\n",
            "Epoch: 15 - valid Loss: 10.7378 - valid Accuracy: 0.1088 - valid MCC: 0.0000\n",
            "\t [16: 0/125] train loss: 1.3509 accuracy: 0.2500 mcc: 0.0000\n",
            "\t [16: 100/125] train loss: 1.5110 accuracy: 0.3438 mcc: 0.0351\n",
            "Epoch: 16 - train Loss: 1.6090 - train Accuracy: 0.2198 - train MCC: -0.0040\n",
            "\t [16: 0/29] valid loss: 1.3670 accuracy: 0.0000 mcc: 0.0000\n",
            "Epoch: 16 - valid Loss: 2.1996 - valid Accuracy: 0.1078 - valid MCC: 0.0000\n",
            "\t [17: 0/125] train loss: 1.3784 accuracy: 0.4062 mcc: 0.0000\n",
            "\t [17: 100/125] train loss: 1.6924 accuracy: 0.0938 mcc: 0.0000\n",
            "Epoch: 17 - train Loss: 1.6007 - train Accuracy: 0.2218 - train MCC: 0.0007\n",
            "\t [17: 0/29] valid loss: 1.5718 accuracy: 0.0000 mcc: 0.0000\n",
            "Epoch: 17 - valid Loss: 2.1928 - valid Accuracy: 0.1078 - valid MCC: 0.0000\n",
            "\t [18: 0/125] train loss: 1.8263 accuracy: 0.0938 mcc: 0.0000\n",
            "\t [18: 100/125] train loss: 1.6072 accuracy: 0.2500 mcc: -0.1092\n",
            "Epoch: 18 - train Loss: 1.6192 - train Accuracy: 0.2208 - train MCC: -0.0011\n",
            "\t [18: 0/29] valid loss: 3.7138 accuracy: 0.0000 mcc: 0.0000\n",
            "Epoch: 18 - valid Loss: 9.1362 - valid Accuracy: 0.1067 - valid MCC: 0.0000\n",
            "\t [19: 0/125] train loss: 1.6886 accuracy: 0.1875 mcc: 0.0085\n",
            "\t [19: 100/125] train loss: 1.7219 accuracy: 0.1875 mcc: 0.0086\n",
            "Epoch: 19 - train Loss: 1.6136 - train Accuracy: 0.2215 - train MCC: -0.0008\n",
            "\t [19: 0/29] valid loss: 1.8827 accuracy: 0.0000 mcc: 0.0000\n",
            "Epoch: 19 - valid Loss: 2.1632 - valid Accuracy: 0.1078 - valid MCC: 0.0000\n",
            "\t [20: 0/125] train loss: 1.6708 accuracy: 0.1875 mcc: 0.0000\n",
            "\t [20: 100/125] train loss: 1.5945 accuracy: 0.2812 mcc: 0.0000\n",
            "Epoch: 20 - train Loss: 1.6083 - train Accuracy: 0.2218 - train MCC: 0.0017\n",
            "\t [20: 0/29] valid loss: 1.6423 accuracy: 0.0000 mcc: 0.0000\n",
            "Epoch: 20 - valid Loss: 2.2179 - valid Accuracy: 0.1078 - valid MCC: 0.0000\n",
            "\t [21: 0/125] train loss: 1.5511 accuracy: 0.2500 mcc: 0.0000\n",
            "\t [21: 100/125] train loss: 1.3402 accuracy: 0.3750 mcc: 0.0000\n",
            "Epoch: 21 - train Loss: 1.6109 - train Accuracy: 0.2220 - train MCC: -0.0004\n",
            "\t [21: 0/29] valid loss: 1.6160 accuracy: 0.0000 mcc: 0.0000\n",
            "Epoch: 21 - valid Loss: 8.3743 - valid Accuracy: 0.1078 - valid MCC: 0.0000\n",
            "\t [22: 0/125] train loss: 1.3409 accuracy: 0.3750 mcc: 0.0000\n",
            "\t [22: 100/125] train loss: 1.9016 accuracy: 0.0938 mcc: 0.0000\n",
            "Epoch: 22 - train Loss: 1.6184 - train Accuracy: 0.2223 - train MCC: 0.0010\n",
            "\t [22: 0/29] valid loss: 1.6498 accuracy: 0.0000 mcc: 0.0000\n",
            "Epoch: 22 - valid Loss: 2.1574 - valid Accuracy: 0.1078 - valid MCC: 0.0000\n",
            "\t [23: 0/125] train loss: 1.4070 accuracy: 0.2812 mcc: 0.0000\n",
            "\t [23: 100/125] train loss: 1.8108 accuracy: 0.1562 mcc: 0.0000\n",
            "Epoch: 23 - train Loss: 1.5914 - train Accuracy: 0.2218 - train MCC: -0.0021\n",
            "\t [23: 0/29] valid loss: 1.6401 accuracy: 0.0000 mcc: 0.0000\n",
            "Epoch: 23 - valid Loss: 2.1265 - valid Accuracy: 0.1088 - valid MCC: 0.0000\n",
            "\t [24: 0/125] train loss: 1.7426 accuracy: 0.2188 mcc: 0.0000\n",
            "\t [24: 100/125] train loss: 1.9228 accuracy: 0.1250 mcc: 0.0000\n",
            "Epoch: 24 - train Loss: 1.5884 - train Accuracy: 0.2220 - train MCC: -0.0007\n",
            "\t [24: 0/29] valid loss: 1.5559 accuracy: 0.0000 mcc: 0.0000\n",
            "Epoch: 24 - valid Loss: 2.2271 - valid Accuracy: 0.1067 - valid MCC: -0.0015\n",
            "\t [25: 0/125] train loss: 1.5087 accuracy: 0.2500 mcc: 0.0000\n",
            "\t [25: 100/125] train loss: 1.6509 accuracy: 0.2188 mcc: 0.0000\n",
            "Epoch: 25 - train Loss: 1.5938 - train Accuracy: 0.2223 - train MCC: 0.0012\n",
            "\t [25: 0/29] valid loss: 1.4739 accuracy: 0.0000 mcc: 0.0000\n",
            "Epoch: 25 - valid Loss: 2.1697 - valid Accuracy: 0.1078 - valid MCC: 0.0000\n",
            "\t [26: 0/125] train loss: 1.5347 accuracy: 0.2500 mcc: 0.0000\n",
            "\t [26: 100/125] train loss: 1.4338 accuracy: 0.2812 mcc: 0.0000\n",
            "Epoch: 26 - train Loss: 1.5884 - train Accuracy: 0.2223 - train MCC: 0.0000\n",
            "\t [26: 0/29] valid loss: 1.4010 accuracy: 0.0000 mcc: 0.0000\n",
            "Epoch: 26 - valid Loss: 2.2049 - valid Accuracy: 0.1078 - valid MCC: 0.0000\n",
            "\t [27: 0/125] train loss: 1.4497 accuracy: 0.3125 mcc: 0.0000\n",
            "\t [27: 100/125] train loss: 1.5484 accuracy: 0.3125 mcc: 0.0000\n",
            "Epoch: 27 - train Loss: 1.6009 - train Accuracy: 0.2223 - train MCC: 0.0000\n",
            "\t [27: 0/29] valid loss: 1.6242 accuracy: 0.0000 mcc: 0.0000\n",
            "Epoch: 27 - valid Loss: 2.3209 - valid Accuracy: 0.1078 - valid MCC: 0.0000\n",
            "\t [28: 0/125] train loss: 1.4186 accuracy: 0.3125 mcc: 0.0000\n",
            "\t [28: 100/125] train loss: 1.7254 accuracy: 0.1875 mcc: 0.0000\n",
            "Epoch: 28 - train Loss: 1.5994 - train Accuracy: 0.2223 - train MCC: 0.0000\n",
            "\t [28: 0/29] valid loss: 1.5097 accuracy: 0.0000 mcc: 0.0000\n",
            "Epoch: 28 - valid Loss: 2.4505 - valid Accuracy: 0.1088 - valid MCC: 0.0000\n",
            "\t [29: 0/125] train loss: 1.6868 accuracy: 0.1562 mcc: 0.0000\n",
            "\t [29: 100/125] train loss: 1.6056 accuracy: 0.2188 mcc: 0.0000\n",
            "Epoch: 29 - train Loss: 1.5858 - train Accuracy: 0.2223 - train MCC: 0.0000\n",
            "\t [29: 0/29] valid loss: 1.6337 accuracy: 0.0000 mcc: 0.0000\n",
            "Epoch: 29 - valid Loss: 2.2915 - valid Accuracy: 0.1088 - valid MCC: 0.0000\n",
            "\t [30: 0/125] train loss: 1.6892 accuracy: 0.1875 mcc: 0.0000\n",
            "\t [30: 100/125] train loss: 1.6854 accuracy: 0.1562 mcc: 0.0000\n",
            "Epoch: 30 - train Loss: 1.5946 - train Accuracy: 0.2223 - train MCC: 0.0000\n",
            "\t [30: 0/29] valid loss: 1.5859 accuracy: 0.0000 mcc: 0.0000\n",
            "Epoch: 30 - valid Loss: 2.1648 - valid Accuracy: 0.1088 - valid MCC: 0.0000\n",
            "\t [31: 0/125] train loss: 1.4414 accuracy: 0.2500 mcc: 0.0000\n",
            "\t [31: 100/125] train loss: 1.6179 accuracy: 0.1875 mcc: 0.0000\n",
            "Epoch: 31 - train Loss: 1.5840 - train Accuracy: 0.2223 - train MCC: 0.0000\n",
            "\t [31: 0/29] valid loss: 1.5818 accuracy: 0.0000 mcc: 0.0000\n",
            "Epoch: 31 - valid Loss: 2.1173 - valid Accuracy: 0.1078 - valid MCC: 0.0000\n",
            "\t [32: 0/125] train loss: 1.7942 accuracy: 0.0938 mcc: 0.0000\n",
            "\t [32: 100/125] train loss: 1.6420 accuracy: 0.2188 mcc: 0.0000\n",
            "Epoch: 32 - train Loss: 1.5800 - train Accuracy: 0.2223 - train MCC: 0.0000\n",
            "\t [32: 0/29] valid loss: 1.8257 accuracy: 0.0000 mcc: 0.0000\n",
            "Epoch: 32 - valid Loss: 2.8549 - valid Accuracy: 0.1078 - valid MCC: 0.0000\n",
            "\t [33: 0/125] train loss: 1.6299 accuracy: 0.2812 mcc: 0.0000\n",
            "\t [33: 100/125] train loss: 1.5172 accuracy: 0.2500 mcc: 0.0000\n",
            "Epoch: 33 - train Loss: 1.5811 - train Accuracy: 0.2223 - train MCC: 0.0000\n",
            "\t [33: 0/29] valid loss: 1.9275 accuracy: 0.0000 mcc: 0.0000\n",
            "Epoch: 33 - valid Loss: 2.6606 - valid Accuracy: 0.1067 - valid MCC: 0.0000\n",
            "\t [34: 0/125] train loss: 1.6369 accuracy: 0.1875 mcc: 0.0000\n",
            "\t [34: 100/125] train loss: 1.5026 accuracy: 0.2500 mcc: 0.0000\n",
            "Epoch: 34 - train Loss: 1.5823 - train Accuracy: 0.2223 - train MCC: 0.0000\n",
            "\t [34: 0/29] valid loss: 1.6420 accuracy: 0.0000 mcc: 0.0000\n",
            "Epoch: 34 - valid Loss: 2.1984 - valid Accuracy: 0.1078 - valid MCC: 0.0000\n",
            "\t [35: 0/125] train loss: 1.7376 accuracy: 0.1562 mcc: 0.0000\n",
            "\t [35: 100/125] train loss: 1.4528 accuracy: 0.2812 mcc: 0.0000\n",
            "Epoch: 35 - train Loss: 1.5840 - train Accuracy: 0.2223 - train MCC: 0.0000\n",
            "\t [35: 0/29] valid loss: 1.7886 accuracy: 0.0000 mcc: 0.0000\n",
            "Epoch: 35 - valid Loss: 2.4205 - valid Accuracy: 0.1078 - valid MCC: 0.0000\n",
            "\t [36: 0/125] train loss: 1.8577 accuracy: 0.1250 mcc: 0.0000\n",
            "\t [36: 100/125] train loss: 1.4531 accuracy: 0.3125 mcc: 0.0000\n",
            "Epoch: 36 - train Loss: 1.5841 - train Accuracy: 0.2223 - train MCC: 0.0000\n",
            "\t [36: 0/29] valid loss: 1.6773 accuracy: 0.0000 mcc: 0.0000\n",
            "Epoch: 36 - valid Loss: 2.1336 - valid Accuracy: 0.1078 - valid MCC: 0.0000\n",
            "\t [37: 0/125] train loss: 1.3012 accuracy: 0.3438 mcc: 0.0000\n",
            "\t [37: 100/125] train loss: 1.5304 accuracy: 0.2500 mcc: 0.0000\n",
            "Epoch: 37 - train Loss: 1.5870 - train Accuracy: 0.2223 - train MCC: 0.0000\n",
            "\t [37: 0/29] valid loss: 1.6731 accuracy: 0.0000 mcc: 0.0000\n",
            "Epoch: 37 - valid Loss: 2.1534 - valid Accuracy: 0.1088 - valid MCC: 0.0000\n",
            "\t [38: 0/125] train loss: 1.3955 accuracy: 0.2812 mcc: 0.0000\n",
            "\t [38: 100/125] train loss: 1.8166 accuracy: 0.1875 mcc: 0.0000\n",
            "Epoch: 38 - train Loss: 1.5854 - train Accuracy: 0.2223 - train MCC: 0.0000\n",
            "\t [38: 0/29] valid loss: 1.4382 accuracy: 0.0000 mcc: 0.0000\n",
            "Epoch: 38 - valid Loss: 2.1049 - valid Accuracy: 0.1088 - valid MCC: 0.0000\n",
            "\t [39: 0/125] train loss: 1.4848 accuracy: 0.2188 mcc: 0.0000\n",
            "\t [39: 100/125] train loss: 1.6529 accuracy: 0.1562 mcc: 0.0000\n",
            "Epoch: 39 - train Loss: 1.5866 - train Accuracy: 0.2220 - train MCC: -0.0008\n",
            "\t [39: 0/29] valid loss: 1.6836 accuracy: 0.0000 mcc: 0.0000\n",
            "Epoch: 39 - valid Loss: 2.4163 - valid Accuracy: 0.1067 - valid MCC: 0.0000\n",
            "\t [40: 0/125] train loss: 1.5487 accuracy: 0.2188 mcc: 0.0215\n",
            "\t [40: 100/125] train loss: 1.6728 accuracy: 0.1875 mcc: 0.0000\n",
            "Epoch: 40 - train Loss: 1.5930 - train Accuracy: 0.2223 - train MCC: 0.0009\n",
            "\t [40: 0/29] valid loss: 1.6080 accuracy: 0.0000 mcc: 0.0000\n",
            "Epoch: 40 - valid Loss: 2.1472 - valid Accuracy: 0.1067 - valid MCC: 0.0000\n",
            "\t [41: 0/125] train loss: 1.3660 accuracy: 0.2812 mcc: 0.0000\n",
            "\t [41: 100/125] train loss: 1.8996 accuracy: 0.1250 mcc: 0.0000\n",
            "Epoch: 41 - train Loss: 1.5892 - train Accuracy: 0.2220 - train MCC: -0.0005\n",
            "\t [41: 0/29] valid loss: 3.3558 accuracy: 0.0000 mcc: 0.0000\n",
            "Epoch: 41 - valid Loss: 4.3833 - valid Accuracy: 0.1078 - valid MCC: 0.0000\n",
            "\t [42: 0/125] train loss: 1.2719 accuracy: 0.3750 mcc: 0.0000\n",
            "\t [42: 100/125] train loss: 1.3776 accuracy: 0.3438 mcc: 0.0000\n",
            "Epoch: 42 - train Loss: 1.6056 - train Accuracy: 0.2223 - train MCC: 0.0000\n",
            "\t [42: 0/29] valid loss: 2.0775 accuracy: 0.0000 mcc: 0.0000\n",
            "Epoch: 42 - valid Loss: 2.3880 - valid Accuracy: 0.1078 - valid MCC: 0.0000\n",
            "\t [43: 0/125] train loss: 1.4693 accuracy: 0.2188 mcc: 0.0000\n",
            "\t [43: 100/125] train loss: 1.8284 accuracy: 0.0938 mcc: 0.0000\n",
            "Epoch: 43 - train Loss: 1.5967 - train Accuracy: 0.2218 - train MCC: -0.0021\n",
            "\t [43: 0/29] valid loss: 1.5345 accuracy: 0.0000 mcc: 0.0000\n",
            "Epoch: 43 - valid Loss: 2.2073 - valid Accuracy: 0.1078 - valid MCC: 0.0000\n",
            "\t [44: 0/125] train loss: 1.5179 accuracy: 0.2500 mcc: 0.0218\n",
            "\t [44: 100/125] train loss: 1.5312 accuracy: 0.2500 mcc: 0.0000\n",
            "Epoch: 44 - train Loss: 1.6150 - train Accuracy: 0.2208 - train MCC: -0.0031\n",
            "\t [44: 0/29] valid loss: 3.4426 accuracy: 0.0000 mcc: 0.0000\n",
            "Epoch: 44 - valid Loss: 4.6407 - valid Accuracy: 0.1067 - valid MCC: 0.0000\n",
            "\t [45: 0/125] train loss: 1.5195 accuracy: 0.2188 mcc: 0.0000\n",
            "\t [45: 100/125] train loss: 1.9428 accuracy: 0.1875 mcc: 0.0000\n",
            "Epoch: 45 - train Loss: 1.6290 - train Accuracy: 0.2220 - train MCC: 0.0036\n",
            "\t [45: 0/29] valid loss: 773.9808 accuracy: 0.0000 mcc: 0.0000\n",
            "Epoch: 45 - valid Loss: 797.8410 - valid Accuracy: 0.1078 - valid MCC: 0.0000\n",
            "\t [46: 0/125] train loss: 1.6989 accuracy: 0.2188 mcc: 0.0000\n",
            "\t [46: 100/125] train loss: 1.9438 accuracy: 0.1562 mcc: 0.0000\n",
            "Epoch: 46 - train Loss: 1.6432 - train Accuracy: 0.2220 - train MCC: -0.0010\n",
            "\t [46: 0/29] valid loss: 1.6252 accuracy: 0.0000 mcc: 0.0000\n",
            "Epoch: 46 - valid Loss: 2.1393 - valid Accuracy: 0.1078 - valid MCC: 0.0000\n",
            "\t [47: 0/125] train loss: 1.5868 accuracy: 0.2500 mcc: 0.0000\n",
            "\t [47: 100/125] train loss: 1.5135 accuracy: 0.2500 mcc: 0.0000\n",
            "Epoch: 47 - train Loss: 1.6340 - train Accuracy: 0.2205 - train MCC: -0.0001\n",
            "\t [47: 0/29] valid loss: 49558.3789 accuracy: 0.0000 mcc: 0.0000\n",
            "Epoch: 47 - valid Loss: 50211.1087 - valid Accuracy: 0.1088 - valid MCC: 0.0000\n",
            "\t [48: 0/125] train loss: 1.6394 accuracy: 0.2500 mcc: 0.0000\n",
            "\t [48: 100/125] train loss: 1.9998 accuracy: 0.1250 mcc: 0.0000\n",
            "Epoch: 48 - train Loss: 1.6517 - train Accuracy: 0.2198 - train MCC: -0.0039\n",
            "\t [48: 0/29] valid loss: 88.8548 accuracy: 0.0000 mcc: 0.0000\n",
            "Epoch: 48 - valid Loss: 157.1441 - valid Accuracy: 0.1078 - valid MCC: 0.0015\n",
            "\t [49: 0/125] train loss: 1.6427 accuracy: 0.2500 mcc: 0.0000\n",
            "\t [49: 100/125] train loss: 1.8070 accuracy: 0.1875 mcc: -0.0031\n",
            "Epoch: 49 - train Loss: 1.6562 - train Accuracy: 0.2218 - train MCC: 0.0068\n",
            "\t [49: 0/29] valid loss: 344655072.0000 accuracy: 0.0000 mcc: 0.0000\n",
            "Epoch: 49 - valid Loss: 439252446.8966 - valid Accuracy: 0.1078 - valid MCC: 0.0024\n"
          ]
        }
      ]
    },
    {
      "cell_type": "code",
      "source": [
        "metric_names = ['loss', 'accuracy', 'mcc']\n",
        "_, ax = plt.subplots(len(metric_names), 1, figsize=(8, 6))\n",
        "\n",
        "for i, m in enumerate(metric_names):\n",
        "    ax[i].set_title(m)\n",
        "    ax[i].plot([tm[i] for tm in train_metrics], label='train')\n",
        "    ax[i].plot([vm[i] for vm in valid_metrics], label='valid')\n",
        "    ax[i].legend()\n",
        "\n",
        "plt.subplots_adjust(wspace=0., hspace=0.35)\n",
        "plt.show()"
      ],
      "metadata": {
        "id": "qvcclRNCN3aC",
        "colab": {
          "base_uri": "https://localhost:8080/",
          "height": 545
        },
        "outputId": "e5e45093-a296-4085-aed0-2a4ae83279ec"
      },
      "execution_count": null,
      "outputs": [
        {
          "output_type": "display_data",
          "data": {
            "text/plain": [
              "<Figure size 800x600 with 3 Axes>"
            ],
            "image/png": "[encoded data removed]"
          },
          "metadata": {}
        }
      ]
    }
  ],
  "metadata": {
    "colab": {
      "provenance": [],
      "gpuType": "T4"
    },
    "kernelspec": {
      "display_name": "Python 3",
      "name": "python3"
    },
    "language_info": {
      "name": "python"
    },
    "accelerator": "GPU"
  },
  "nbformat": 4,
  "nbformat_minor": 0
}